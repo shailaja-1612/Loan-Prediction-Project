{
 "cells": [
  {
   "cell_type": "code",
   "execution_count": 3,
   "id": "f51afc41",
   "metadata": {},
   "outputs": [
    {
     "name": "stdout",
     "output_type": "stream",
     "text": [
      "Collecting xgboost\n",
      "  Downloading xgboost-1.7.4-py3-none-win_amd64.whl (89.1 MB)\n",
      "Requirement already satisfied: numpy in c:\\users\\hp\\anaconda3\\lib\\site-packages (from xgboost) (1.21.5)\n",
      "Requirement already satisfied: scipy in c:\\users\\hp\\anaconda3\\lib\\site-packages (from xgboost) (1.7.3)\n",
      "Installing collected packages: xgboost\n",
      "Successfully installed xgboost-1.7.4\n"
     ]
    }
   ],
   "source": [
    "!pip3 install xgboost"
   ]
  },
  {
   "cell_type": "code",
   "execution_count": 4,
   "id": "90c6eadc",
   "metadata": {},
   "outputs": [],
   "source": [
    "import pandas as  pd\n",
    "import numpy as np\n",
    "import seaborn as sns\n",
    "from sklearn.model_selection  import train_test_split\n",
    "from sklearn.linear_model import LogisticRegression\n",
    "from sklearn.metrics import accuracy_score\n",
    "from sklearn.model_selection import StratifiedKFold\n",
    "from sklearn import metrics\n",
    "import matplotlib.pyplot as plt\n",
    "from sklearn import tree\n",
    "from sklearn.ensemble import RandomForestClassifier\n",
    "from sklearn.model_selection import GridSearchCV\n",
    "from xgboost import XGBClassifier"
   ]
  },
  {
   "cell_type": "code",
   "execution_count": 2,
   "id": "5f33c55a",
   "metadata": {},
   "outputs": [],
   "source": [
    "train =  pd.read_csv('Data/train_new.csv')\n",
    "test = pd.read_csv('Data/test_new.csv')\n",
    "\n",
    "test_og = pd.read_csv('Data/test.csv')"
   ]
  },
  {
   "cell_type": "code",
   "execution_count": 5,
   "id": "b4480e9b",
   "metadata": {},
   "outputs": [
    {
     "name": "stderr",
     "output_type": "stream",
     "text": [
      "C:\\Users\\hp\\AppData\\Local\\Temp\\ipykernel_12184\\1690414073.py:5: FutureWarning: In a future version of pandas all arguments of DataFrame.drop except for the argument 'labels' will be keyword-only.\n",
      "  X = train.drop('Loan_Status', 1)\n"
     ]
    }
   ],
   "source": [
    "#Removing the Loan_ID since it has no effect.\n",
    "train = train.drop('Loan_ID', axis=1)\n",
    "test = test.drop('Loan_ID', axis=1)\n",
    "\n",
    "X = train.drop('Loan_Status', 1)\n",
    "y = train.Loan_Status\n",
    "\n",
    "X = pd.get_dummies(X)\n",
    "train = pd.get_dummies(train)\n",
    "test = pd.get_dummies(test)\n",
    "\n",
    "x_train, x_cv, y_train, y_cv = train_test_split(X,y, test_size=0.3)"
   ]
  },
  {
   "cell_type": "code",
   "execution_count": 6,
   "id": "77f06a49",
   "metadata": {},
   "outputs": [
    {
     "name": "stdout",
     "output_type": "stream",
     "text": [
      "The Accuracy of Logistic Regression Model: 78.91891891891892\n"
     ]
    },
    {
     "name": "stderr",
     "output_type": "stream",
     "text": [
      "C:\\Users\\hp\\anaconda3\\lib\\site-packages\\sklearn\\linear_model\\_logistic.py:814: ConvergenceWarning: lbfgs failed to converge (status=1):\n",
      "STOP: TOTAL NO. of ITERATIONS REACHED LIMIT.\n",
      "\n",
      "Increase the number of iterations (max_iter) or scale the data as shown in:\n",
      "    https://scikit-learn.org/stable/modules/preprocessing.html\n",
      "Please also refer to the documentation for alternative solver options:\n",
      "    https://scikit-learn.org/stable/modules/linear_model.html#logistic-regression\n",
      "  n_iter_i = _check_optimize_result(\n"
     ]
    }
   ],
   "source": [
    "# LOGISTIC REGRESSION\n",
    "model = LogisticRegression()\n",
    "model.fit(x_train, y_train)\n",
    "\n",
    "#preddicting the Loan_status.\n",
    "\n",
    "pred_cv = model.predict(x_cv)\n",
    "\n",
    "#now let's calculate the accuracy of the model.\n",
    "\n",
    "log_reg = accuracy_score(y_cv, pred_cv)\n",
    "\n",
    "# let's make the predection for the test dataset\n",
    "pred_test = model.predict(test)\n",
    "\n",
    "print('The Accuracy of Logistic Regression Model:',log_reg*100)"
   ]
  },
  {
   "cell_type": "code",
   "execution_count": 7,
   "id": "8d54489b",
   "metadata": {},
   "outputs": [],
   "source": [
    "submission = pd.read_csv('Data/submission.csv')\n",
    "\n",
    "submission.Loan_Status = pred_test\n",
    "submission.Loan_Status.replace(1, 'Y', inplace=True)\n",
    "submission.Loan_Status.replace(0, 'N', inplace=True)\n",
    "\n",
    "pd.DataFrame(submission, columns=['Loan_ID', 'Loan_Status']).to_csv('submission.csv', index=False)"
   ]
  },
  {
   "cell_type": "code",
   "execution_count": 8,
   "id": "daa54922",
   "metadata": {},
   "outputs": [
    {
     "name": "stdout",
     "output_type": "stream",
     "text": [
      "\n",
      " Logistic Regression using stratified k-folds\n",
      "\n",
      "1 of Kfold 5 \n",
      "accuracy_score 0.8048780487804879\n",
      "\n",
      "2 of Kfold 5 \n"
     ]
    },
    {
     "name": "stderr",
     "output_type": "stream",
     "text": [
      "C:\\Users\\hp\\anaconda3\\lib\\site-packages\\sklearn\\linear_model\\_logistic.py:814: ConvergenceWarning: lbfgs failed to converge (status=1):\n",
      "STOP: TOTAL NO. of ITERATIONS REACHED LIMIT.\n",
      "\n",
      "Increase the number of iterations (max_iter) or scale the data as shown in:\n",
      "    https://scikit-learn.org/stable/modules/preprocessing.html\n",
      "Please also refer to the documentation for alternative solver options:\n",
      "    https://scikit-learn.org/stable/modules/linear_model.html#logistic-regression\n",
      "  n_iter_i = _check_optimize_result(\n",
      "C:\\Users\\hp\\anaconda3\\lib\\site-packages\\sklearn\\linear_model\\_logistic.py:814: ConvergenceWarning: lbfgs failed to converge (status=1):\n",
      "STOP: TOTAL NO. of ITERATIONS REACHED LIMIT.\n",
      "\n",
      "Increase the number of iterations (max_iter) or scale the data as shown in:\n",
      "    https://scikit-learn.org/stable/modules/preprocessing.html\n",
      "Please also refer to the documentation for alternative solver options:\n",
      "    https://scikit-learn.org/stable/modules/linear_model.html#logistic-regression\n",
      "  n_iter_i = _check_optimize_result(\n",
      "C:\\Users\\hp\\anaconda3\\lib\\site-packages\\sklearn\\linear_model\\_logistic.py:814: ConvergenceWarning: lbfgs failed to converge (status=1):\n",
      "STOP: TOTAL NO. of ITERATIONS REACHED LIMIT.\n",
      "\n",
      "Increase the number of iterations (max_iter) or scale the data as shown in:\n",
      "    https://scikit-learn.org/stable/modules/preprocessing.html\n",
      "Please also refer to the documentation for alternative solver options:\n",
      "    https://scikit-learn.org/stable/modules/linear_model.html#logistic-regression\n",
      "  n_iter_i = _check_optimize_result(\n"
     ]
    },
    {
     "name": "stdout",
     "output_type": "stream",
     "text": [
      "accuracy_score 0.8373983739837398\n",
      "\n",
      "3 of Kfold 5 \n",
      "accuracy_score 0.7804878048780488\n",
      "\n",
      "4 of Kfold 5 \n",
      "accuracy_score 0.7886178861788617\n",
      "\n",
      "5 of Kfold 5 \n",
      "accuracy_score 0.7950819672131147\n"
     ]
    },
    {
     "name": "stderr",
     "output_type": "stream",
     "text": [
      "C:\\Users\\hp\\anaconda3\\lib\\site-packages\\sklearn\\linear_model\\_logistic.py:814: ConvergenceWarning: lbfgs failed to converge (status=1):\n",
      "STOP: TOTAL NO. of ITERATIONS REACHED LIMIT.\n",
      "\n",
      "Increase the number of iterations (max_iter) or scale the data as shown in:\n",
      "    https://scikit-learn.org/stable/modules/preprocessing.html\n",
      "Please also refer to the documentation for alternative solver options:\n",
      "    https://scikit-learn.org/stable/modules/linear_model.html#logistic-regression\n",
      "  n_iter_i = _check_optimize_result(\n"
     ]
    }
   ],
   "source": [
    "# Cross Validation metrics Using Stratified-K-Folds \n",
    "print('\\n Logistic Regression using stratified k-folds')\n",
    "i = 1\n",
    "\n",
    "KF = StratifiedKFold(n_splits = 5, random_state=1,shuffle=True)\n",
    "\n",
    "for train_index, test_index in KF.split(X,y):\n",
    "    print('\\n{} of Kfold {} '.format(i,KF.n_splits))\n",
    "    xtrain = X.iloc[train_index]\n",
    "    ytrain = y.iloc[train_index]\n",
    "    xvalidation = X.iloc[test_index]\n",
    "    yvalidation = y.iloc[test_index]\n",
    "    model = LogisticRegression(random_state=1)\n",
    "    model.fit(xtrain,ytrain)\n",
    "    pred_test = model.predict(xvalidation)\n",
    "    score = accuracy_score(yvalidation, pred_test)\n",
    "    print('accuracy_score', score)\n",
    "    i+=1 \n",
    "    pred_test = model.predict(test)\n",
    "    pred = model.predict_proba(xvalidation)[:,1]"
   ]
  },
  {
   "cell_type": "code",
   "execution_count": 9,
   "id": "74f58481",
   "metadata": {},
   "outputs": [
    {
     "data": {
      "image/png": "[encoded data removed]",
      "text/plain": [
       "<Figure size 864x576 with 1 Axes>"
      ]
     },
     "metadata": {
      "needs_background": "light"
     },
     "output_type": "display_data"
    }
   ],
   "source": [
    "False_Positive_Rate, True_Positive_Rate, _ = metrics.roc_curve(yvalidation, pred, pos_label='Y')\n",
    "AUC = metrics.roc_auc_score(yvalidation, pred)\n",
    "plt.figure(figsize=(12,8))\n",
    "plt.plot(False_Positive_Rate, True_Positive_Rate, label='validation, AUC='+str(AUC))\n",
    "plt.xlabel('False Positive Rate')\n",
    "plt.ylabel('True Positive Rate')\n",
    "plt.legend(loc=4)#Location of the legend on the position on the screen represented by numbers from 1 to 4.\n",
    "plt.show()"
   ]
  },
  {
   "cell_type": "code",
   "execution_count": 10,
   "id": "3de46ae6",
   "metadata": {},
   "outputs": [
    {
     "data": {
      "text/plain": [
       "Index(['ApplicantIncome', 'CoapplicantIncome', 'LoanAmount',\n",
       "       'Loan_Amount_Term', 'Credit_History', 'LoanAmount_log', 'Gender_Female',\n",
       "       'Gender_Male', 'Married_No', 'Married_Yes', 'Dependents_0',\n",
       "       'Dependents_1', 'Dependents_2', 'Dependents_3+', 'Education_Graduate',\n",
       "       'Education_Not Graduate', 'Self_Employed_No', 'Self_Employed_Yes',\n",
       "       'Property_Area_Rural', 'Property_Area_Semiurban', 'Property_Area_Urban',\n",
       "       'Loan_Status_N', 'Loan_Status_Y'],\n",
       "      dtype='object')"
      ]
     },
     "execution_count": 10,
     "metadata": {},
     "output_type": "execute_result"
    }
   ],
   "source": [
    "# Feature Engineering\n",
    "train.columns"
   ]
  },
  {
   "cell_type": "code",
   "execution_count": 11,
   "id": "b5be5438",
   "metadata": {},
   "outputs": [],
   "source": [
    "train['Total_Amount'] = train.ApplicantIncome + train.CoapplicantIncome\n",
    "test['Total_Amount'] = test.ApplicantIncome + test.CoapplicantIncome"
   ]
  },
  {
   "cell_type": "code",
   "execution_count": 12,
   "id": "f0e13677",
   "metadata": {},
   "outputs": [],
   "source": [
    "\n",
    "train['Total_Amount_log'] = np.log(train.Total_Amount)\n",
    "test['Total_Amount_log'] = np.log(test.Total_Amount)"
   ]
  },
  {
   "cell_type": "code",
   "execution_count": 13,
   "id": "41787478",
   "metadata": {},
   "outputs": [
    {
     "name": "stderr",
     "output_type": "stream",
     "text": [
      "C:\\Users\\hp\\anaconda3\\lib\\site-packages\\seaborn\\distributions.py:2619: FutureWarning: `distplot` is a deprecated function and will be removed in a future version. Please adapt your code to use either `displot` (a figure-level function with similar flexibility) or `histplot` (an axes-level function for histograms).\n",
      "  warnings.warn(msg, FutureWarning)\n"
     ]
    },
    {
     "data": {
      "text/plain": [
       "<AxesSubplot:xlabel='Total_Amount_log', ylabel='Density'>"
      ]
     },
     "execution_count": 13,
     "metadata": {},
     "output_type": "execute_result"
    },
    {
     "data": {
      "image/png": "[encoded data removed]",
      "text/plain": [
       "<Figure size 432x288 with 1 Axes>"
      ]
     },
     "metadata": {
      "needs_background": "light"
     },
     "output_type": "display_data"
    }
   ],
   "source": [
    "sns.distplot(train.Total_Amount_log)"
   ]
  },
  {
   "cell_type": "code",
   "execution_count": 14,
   "id": "d067cf4c",
   "metadata": {},
   "outputs": [],
   "source": [
    "\n",
    "train['EMI'] = train.LoanAmount / train.Loan_Amount_Term\n",
    "test['EMI'] = test.LoanAmount / train.Loan_Amount_Term"
   ]
  },
  {
   "cell_type": "code",
   "execution_count": 15,
   "id": "f22bbde2",
   "metadata": {},
   "outputs": [
    {
     "name": "stderr",
     "output_type": "stream",
     "text": [
      "C:\\Users\\hp\\anaconda3\\lib\\site-packages\\seaborn\\distributions.py:2619: FutureWarning: `distplot` is a deprecated function and will be removed in a future version. Please adapt your code to use either `displot` (a figure-level function with similar flexibility) or `histplot` (an axes-level function for histograms).\n",
      "  warnings.warn(msg, FutureWarning)\n"
     ]
    },
    {
     "data": {
      "text/plain": [
       "<AxesSubplot:xlabel='EMI', ylabel='Density'>"
      ]
     },
     "execution_count": 15,
     "metadata": {},
     "output_type": "execute_result"
    },
    {
     "data": {
      "image/png": "[encoded data removed]",
      "text/plain": [
       "<Figure size 432x288 with 1 Axes>"
      ]
     },
     "metadata": {
      "needs_background": "light"
     },
     "output_type": "display_data"
    }
   ],
   "source": [
    "sns.distplot(train.EMI)"
   ]
  },
  {
   "cell_type": "code",
   "execution_count": 16,
   "id": "1b61db8c",
   "metadata": {},
   "outputs": [],
   "source": [
    "train['Balance_Income'] = train['Total_Amount'] -(train['EMI']*1000)\n",
    "test['Balance_Income'] = test['Total_Amount'] -(test['EMI']*1000)"
   ]
  },
  {
   "cell_type": "code",
   "execution_count": 17,
   "id": "9c2bd6ab",
   "metadata": {},
   "outputs": [
    {
     "data": {
      "text/plain": [
       "<seaborn.axisgrid.FacetGrid at 0x1a001056fd0>"
      ]
     },
     "execution_count": 17,
     "metadata": {},
     "output_type": "execute_result"
    },
    {
     "data": {
      "image/png": "[encoded data removed]",
      "text/plain": [
       "<Figure size 360x360 with 1 Axes>"
      ]
     },
     "metadata": {
      "needs_background": "light"
     },
     "output_type": "display_data"
    }
   ],
   "source": [
    "sns.displot(train.Balance_Income)"
   ]
  },
  {
   "cell_type": "code",
   "execution_count": 18,
   "id": "3d6d31ac",
   "metadata": {},
   "outputs": [],
   "source": [
    "train = train.drop(['ApplicantIncome', 'CoapplicantIncome', 'Loan_Amount_Term', 'LoanAmount'], axis=1)\n",
    "test = test.drop(['ApplicantIncome', 'CoapplicantIncome', 'Loan_Amount_Term', 'LoanAmount'], axis=1)"
   ]
  },
  {
   "cell_type": "code",
   "execution_count": 19,
   "id": "3c084170",
   "metadata": {},
   "outputs": [],
   "source": [
    "# Decision Tree."
   ]
  },
  {
   "cell_type": "code",
   "execution_count": 20,
   "id": "9b4a08c4",
   "metadata": {},
   "outputs": [
    {
     "name": "stdout",
     "output_type": "stream",
     "text": [
      "\n",
      "1 of Kfolds 5 \n",
      "Accuracy Score of Decision Tree is  0.7073170731707317\n",
      "\n",
      "2 of Kfolds 5 \n",
      "Accuracy Score of Decision Tree is  0.7235772357723578\n",
      "\n",
      "3 of Kfolds 5 \n",
      "Accuracy Score of Decision Tree is  0.7073170731707317\n",
      "\n",
      "4 of Kfolds 5 \n",
      "Accuracy Score of Decision Tree is  0.7154471544715447\n",
      "\n",
      "5 of Kfolds 5 \n",
      "Accuracy Score of Decision Tree is  0.6885245901639344\n"
     ]
    },
    {
     "name": "stderr",
     "output_type": "stream",
     "text": [
      "C:\\Users\\hp\\anaconda3\\lib\\site-packages\\sklearn\\base.py:493: FutureWarning: The feature names should match those that were passed during fit. Starting version 1.2, an error will be raised.\n",
      "Feature names unseen at fit time:\n",
      "- Balance_Income\n",
      "- EMI\n",
      "- Total_Amount\n",
      "- Total_Amount_log\n",
      "Feature names seen at fit time, yet now missing:\n",
      "- ApplicantIncome\n",
      "- CoapplicantIncome\n",
      "- LoanAmount\n",
      "- Loan_Amount_Term\n",
      "\n",
      "  warnings.warn(message, FutureWarning)\n",
      "C:\\Users\\hp\\anaconda3\\lib\\site-packages\\sklearn\\base.py:493: FutureWarning: The feature names should match those that were passed during fit. Starting version 1.2, an error will be raised.\n",
      "Feature names unseen at fit time:\n",
      "- Balance_Income\n",
      "- EMI\n",
      "- Total_Amount\n",
      "- Total_Amount_log\n",
      "Feature names seen at fit time, yet now missing:\n",
      "- ApplicantIncome\n",
      "- CoapplicantIncome\n",
      "- LoanAmount\n",
      "- Loan_Amount_Term\n",
      "\n",
      "  warnings.warn(message, FutureWarning)\n",
      "C:\\Users\\hp\\anaconda3\\lib\\site-packages\\sklearn\\base.py:493: FutureWarning: The feature names should match those that were passed during fit. Starting version 1.2, an error will be raised.\n",
      "Feature names unseen at fit time:\n",
      "- Balance_Income\n",
      "- EMI\n",
      "- Total_Amount\n",
      "- Total_Amount_log\n",
      "Feature names seen at fit time, yet now missing:\n",
      "- ApplicantIncome\n",
      "- CoapplicantIncome\n",
      "- LoanAmount\n",
      "- Loan_Amount_Term\n",
      "\n",
      "  warnings.warn(message, FutureWarning)\n",
      "C:\\Users\\hp\\anaconda3\\lib\\site-packages\\sklearn\\base.py:493: FutureWarning: The feature names should match those that were passed during fit. Starting version 1.2, an error will be raised.\n",
      "Feature names unseen at fit time:\n",
      "- Balance_Income\n",
      "- EMI\n",
      "- Total_Amount\n",
      "- Total_Amount_log\n",
      "Feature names seen at fit time, yet now missing:\n",
      "- ApplicantIncome\n",
      "- CoapplicantIncome\n",
      "- LoanAmount\n",
      "- Loan_Amount_Term\n",
      "\n",
      "  warnings.warn(message, FutureWarning)\n",
      "C:\\Users\\hp\\anaconda3\\lib\\site-packages\\sklearn\\base.py:493: FutureWarning: The feature names should match those that were passed during fit. Starting version 1.2, an error will be raised.\n",
      "Feature names unseen at fit time:\n",
      "- Balance_Income\n",
      "- EMI\n",
      "- Total_Amount\n",
      "- Total_Amount_log\n",
      "Feature names seen at fit time, yet now missing:\n",
      "- ApplicantIncome\n",
      "- CoapplicantIncome\n",
      "- LoanAmount\n",
      "- Loan_Amount_Term\n",
      "\n",
      "  warnings.warn(message, FutureWarning)\n"
     ]
    }
   ],
   "source": [
    "i=1\n",
    "KF = StratifiedKFold(n_splits=5, random_state=1, shuffle=True)\n",
    "for train_index, test_index in KF.split(X,y):\n",
    "    print('\\n{} of Kfolds {} '.format(i, KF.n_splits))\n",
    "    xtrain = X.iloc[train_index]\n",
    "    ytrain = y.iloc[train_index]\n",
    "    xvalidation = X.iloc[test_index]\n",
    "    yvalidation = y.iloc[test_index]\n",
    "    model = tree.DecisionTreeClassifier(random_state=1)\n",
    "    model.fit(xtrain,ytrain)\n",
    "    pred_test = model.predict(xvalidation)\n",
    "    score = accuracy_score(yvalidation, pred_test)\n",
    "    print('Accuracy Score of Decision Tree is ',score)\n",
    "    i+=1\n",
    "    pred_test = model.predict(test)"
   ]
  },
  {
   "cell_type": "code",
   "execution_count": 21,
   "id": "79e25af0",
   "metadata": {},
   "outputs": [],
   "source": [
    "submission['Loan_Status'] = pred_test\n",
    "submission['Loan_ID'] = test_og['Loan_ID']"
   ]
  },
  {
   "cell_type": "code",
   "execution_count": 22,
   "id": "8b822151",
   "metadata": {},
   "outputs": [],
   "source": [
    "submission['Loan_Status'].replace(0, 'N', inplace=True)\n",
    "submission['Loan_Status'].replace(1, 'Y', inplace=True)"
   ]
  },
  {
   "cell_type": "code",
   "execution_count": 23,
   "id": "ac3b9335",
   "metadata": {},
   "outputs": [],
   "source": [
    "pd.DataFrame(submission, columns=['Loan_ID', 'Loan_Status']).to_csv('Decision Tree.csv', index=False)"
   ]
  },
  {
   "cell_type": "code",
   "execution_count": 24,
   "id": "49029fb4",
   "metadata": {},
   "outputs": [],
   "source": [
    "# Random Forest"
   ]
  },
  {
   "cell_type": "code",
   "execution_count": 25,
   "id": "01f63c42",
   "metadata": {},
   "outputs": [
    {
     "name": "stdout",
     "output_type": "stream",
     "text": [
      "\n",
      "1 of Kfolds 5 \n",
      "Accuracy Score of Random Forest is  0.8130081300813008\n",
      "\n",
      "2 of Kfolds 5 \n"
     ]
    },
    {
     "name": "stderr",
     "output_type": "stream",
     "text": [
      "C:\\Users\\hp\\anaconda3\\lib\\site-packages\\sklearn\\base.py:493: FutureWarning: The feature names should match those that were passed during fit. Starting version 1.2, an error will be raised.\n",
      "Feature names unseen at fit time:\n",
      "- Balance_Income\n",
      "- EMI\n",
      "- Total_Amount\n",
      "- Total_Amount_log\n",
      "Feature names seen at fit time, yet now missing:\n",
      "- ApplicantIncome\n",
      "- CoapplicantIncome\n",
      "- LoanAmount\n",
      "- Loan_Amount_Term\n",
      "\n",
      "  warnings.warn(message, FutureWarning)\n"
     ]
    },
    {
     "name": "stdout",
     "output_type": "stream",
     "text": [
      "Accuracy Score of Random Forest is  0.8373983739837398\n",
      "\n",
      "3 of Kfolds 5 \n"
     ]
    },
    {
     "name": "stderr",
     "output_type": "stream",
     "text": [
      "C:\\Users\\hp\\anaconda3\\lib\\site-packages\\sklearn\\base.py:493: FutureWarning: The feature names should match those that were passed during fit. Starting version 1.2, an error will be raised.\n",
      "Feature names unseen at fit time:\n",
      "- Balance_Income\n",
      "- EMI\n",
      "- Total_Amount\n",
      "- Total_Amount_log\n",
      "Feature names seen at fit time, yet now missing:\n",
      "- ApplicantIncome\n",
      "- CoapplicantIncome\n",
      "- LoanAmount\n",
      "- Loan_Amount_Term\n",
      "\n",
      "  warnings.warn(message, FutureWarning)\n"
     ]
    },
    {
     "name": "stdout",
     "output_type": "stream",
     "text": [
      "Accuracy Score of Random Forest is  0.7804878048780488\n",
      "\n",
      "4 of Kfolds 5 \n"
     ]
    },
    {
     "name": "stderr",
     "output_type": "stream",
     "text": [
      "C:\\Users\\hp\\anaconda3\\lib\\site-packages\\sklearn\\base.py:493: FutureWarning: The feature names should match those that were passed during fit. Starting version 1.2, an error will be raised.\n",
      "Feature names unseen at fit time:\n",
      "- Balance_Income\n",
      "- EMI\n",
      "- Total_Amount\n",
      "- Total_Amount_log\n",
      "Feature names seen at fit time, yet now missing:\n",
      "- ApplicantIncome\n",
      "- CoapplicantIncome\n",
      "- LoanAmount\n",
      "- Loan_Amount_Term\n",
      "\n",
      "  warnings.warn(message, FutureWarning)\n"
     ]
    },
    {
     "name": "stdout",
     "output_type": "stream",
     "text": [
      "Accuracy Score of Random Forest is  0.8130081300813008\n",
      "\n",
      "5 of Kfolds 5 \n"
     ]
    },
    {
     "name": "stderr",
     "output_type": "stream",
     "text": [
      "C:\\Users\\hp\\anaconda3\\lib\\site-packages\\sklearn\\base.py:493: FutureWarning: The feature names should match those that were passed during fit. Starting version 1.2, an error will be raised.\n",
      "Feature names unseen at fit time:\n",
      "- Balance_Income\n",
      "- EMI\n",
      "- Total_Amount\n",
      "- Total_Amount_log\n",
      "Feature names seen at fit time, yet now missing:\n",
      "- ApplicantIncome\n",
      "- CoapplicantIncome\n",
      "- LoanAmount\n",
      "- Loan_Amount_Term\n",
      "\n",
      "  warnings.warn(message, FutureWarning)\n"
     ]
    },
    {
     "name": "stdout",
     "output_type": "stream",
     "text": [
      "Accuracy Score of Random Forest is  0.7622950819672131\n"
     ]
    },
    {
     "name": "stderr",
     "output_type": "stream",
     "text": [
      "C:\\Users\\hp\\anaconda3\\lib\\site-packages\\sklearn\\base.py:493: FutureWarning: The feature names should match those that were passed during fit. Starting version 1.2, an error will be raised.\n",
      "Feature names unseen at fit time:\n",
      "- Balance_Income\n",
      "- EMI\n",
      "- Total_Amount\n",
      "- Total_Amount_log\n",
      "Feature names seen at fit time, yet now missing:\n",
      "- ApplicantIncome\n",
      "- CoapplicantIncome\n",
      "- LoanAmount\n",
      "- Loan_Amount_Term\n",
      "\n",
      "  warnings.warn(message, FutureWarning)\n"
     ]
    }
   ],
   "source": [
    "i=1\n",
    "KF = StratifiedKFold(n_splits=5, random_state=1, shuffle=True)\n",
    "for train_index, test_index in KF.split(X,y):\n",
    "    print('\\n{} of Kfolds {} '.format(i, KF.n_splits))\n",
    "    xtrain = X.iloc[train_index]\n",
    "    ytrain = y.iloc[train_index]\n",
    "    xvalidation = X.iloc[test_index]\n",
    "    yvalidation = y.iloc[test_index]\n",
    "    model = RandomForestClassifier(random_state=1, max_depth=10)\n",
    "    model.fit(xtrain,ytrain)\n",
    "    pred_test = model.predict(xvalidation)\n",
    "    score = accuracy_score(yvalidation, pred_test)\n",
    "    print('Accuracy Score of Random Forest is ',score)\n",
    "    i+=1\n",
    "    pred_test = model.predict(test)"
   ]
  },
  {
   "cell_type": "code",
   "execution_count": 26,
   "id": "0b3fe5fa",
   "metadata": {},
   "outputs": [],
   "source": [
    "# GridSearch"
   ]
  },
  {
   "cell_type": "code",
   "execution_count": 27,
   "id": "915d54a2",
   "metadata": {},
   "outputs": [],
   "source": [
    "param_grid = {'max_depth': list(range(1, 20, 2)),\n",
    "             'n_estimators': list(range(1,200, 20))\n",
    "             }\n"
   ]
  },
  {
   "cell_type": "code",
   "execution_count": 28,
   "id": "13bca676",
   "metadata": {},
   "outputs": [],
   "source": [
    "grid_search = GridSearchCV(RandomForestClassifier(random_state=1), param_grid)"
   ]
  },
  {
   "cell_type": "code",
   "execution_count": 29,
   "id": "e6ba9474",
   "metadata": {},
   "outputs": [
    {
     "data": {
      "text/plain": [
       "GridSearchCV(estimator=RandomForestClassifier(random_state=1),\n",
       "             param_grid={'max_depth': [1, 3, 5, 7, 9, 11, 13, 15, 17, 19],\n",
       "                         'n_estimators': [1, 21, 41, 61, 81, 101, 121, 141, 161,\n",
       "                                          181]})"
      ]
     },
     "execution_count": 29,
     "metadata": {},
     "output_type": "execute_result"
    }
   ],
   "source": [
    "grid_search.fit(X,y)"
   ]
  },
  {
   "cell_type": "code",
   "execution_count": 30,
   "id": "c0d019f1",
   "metadata": {},
   "outputs": [
    {
     "ename": "TypeError",
     "evalue": "__init__() got an unexpected keyword argument 'min_impurity_split'",
     "output_type": "error",
     "traceback": [
      "\u001b[1;31m---------------------------------------------------------------------------\u001b[0m",
      "\u001b[1;31mTypeError\u001b[0m                                 Traceback (most recent call last)",
      "Input \u001b[1;32mIn [30]\u001b[0m, in \u001b[0;36m<cell line: 1>\u001b[1;34m()\u001b[0m\n\u001b[0;32m      1\u001b[0m GridSearchCV(cv\u001b[38;5;241m=\u001b[39m\u001b[38;5;28;01mNone\u001b[39;00m, error_score\u001b[38;5;241m=\u001b[39m\u001b[38;5;124m'\u001b[39m\u001b[38;5;124mraise\u001b[39m\u001b[38;5;124m'\u001b[39m,\n\u001b[1;32m----> 2\u001b[0m              estimator \u001b[38;5;241m=\u001b[39m \u001b[43mRandomForestClassifier\u001b[49m\u001b[43m(\u001b[49m\u001b[43mbootstrap\u001b[49m\u001b[43m \u001b[49m\u001b[38;5;241;43m=\u001b[39;49m\u001b[43m \u001b[49m\u001b[38;5;28;43;01mTrue\u001b[39;49;00m\u001b[43m,\u001b[49m\u001b[43m \u001b[49m\u001b[43mclass_weight\u001b[49m\u001b[43m \u001b[49m\u001b[38;5;241;43m=\u001b[39;49m\u001b[43m \u001b[49m\u001b[38;5;28;43;01mNone\u001b[39;49;00m\u001b[43m,\u001b[49m\u001b[43m \u001b[49m\n\u001b[0;32m      3\u001b[0m \u001b[43m                                                \u001b[49m\u001b[43mcriterion\u001b[49m\u001b[38;5;241;43m=\u001b[39;49m\u001b[38;5;124;43m'\u001b[39;49m\u001b[38;5;124;43mgini\u001b[39;49m\u001b[38;5;124;43m'\u001b[39;49m\u001b[43m,\u001b[49m\u001b[43m \u001b[49m\u001b[43mmax_depth\u001b[49m\u001b[38;5;241;43m=\u001b[39;49m\u001b[43m \u001b[49m\u001b[38;5;28;43;01mNone\u001b[39;49;00m\u001b[43m,\u001b[49m\u001b[43m \u001b[49m\n\u001b[0;32m      4\u001b[0m \u001b[43m                                                \u001b[49m\u001b[43mmax_features\u001b[49m\u001b[38;5;241;43m=\u001b[39;49m\u001b[38;5;124;43m'\u001b[39;49m\u001b[38;5;124;43mauto\u001b[39;49m\u001b[38;5;124;43m'\u001b[39;49m\u001b[43m,\u001b[49m\u001b[43m \u001b[49m\u001b[43mmax_leaf_nodes\u001b[49m\u001b[38;5;241;43m=\u001b[39;49m\u001b[43m \u001b[49m\u001b[38;5;28;43;01mNone\u001b[39;49;00m\u001b[43m,\u001b[49m\n\u001b[0;32m      5\u001b[0m \u001b[43m                                                \u001b[49m\u001b[43mmin_impurity_decrease\u001b[49m\u001b[43m \u001b[49m\u001b[38;5;241;43m=\u001b[39;49m\u001b[43m \u001b[49m\u001b[38;5;241;43m0.0\u001b[39;49m\u001b[43m,\u001b[49m\u001b[43m \u001b[49m\n\u001b[0;32m      6\u001b[0m \u001b[43m                                                \u001b[49m\u001b[43mmin_impurity_split\u001b[49m\u001b[38;5;241;43m=\u001b[39;49m\u001b[38;5;28;43;01mNone\u001b[39;49;00m\u001b[43m,\u001b[49m\u001b[43m \u001b[49m\u001b[43mmin_samples_leaf\u001b[49m\u001b[43m \u001b[49m\u001b[38;5;241;43m=\u001b[39;49m\u001b[43m \u001b[49m\u001b[38;5;241;43m1\u001b[39;49m\u001b[43m,\u001b[49m\n\u001b[0;32m      7\u001b[0m \u001b[43m                                                \u001b[49m\u001b[43mmin_samples_split\u001b[49m\u001b[43m \u001b[49m\u001b[38;5;241;43m=\u001b[39;49m\u001b[43m \u001b[49m\u001b[38;5;241;43m2\u001b[39;49m\u001b[43m,\u001b[49m\u001b[43m \u001b[49m\u001b[43mmin_weight_fraction_leaf\u001b[49m\u001b[43m \u001b[49m\u001b[38;5;241;43m=\u001b[39;49m\u001b[43m \u001b[49m\u001b[38;5;241;43m0.0\u001b[39;49m\u001b[43m,\u001b[49m\n\u001b[0;32m      8\u001b[0m \u001b[43m                                                \u001b[49m\u001b[43mn_estimators\u001b[49m\u001b[38;5;241;43m=\u001b[39;49m\u001b[43m \u001b[49m\u001b[38;5;241;43m10\u001b[39;49m\u001b[43m,\u001b[49m\u001b[43m \u001b[49m\u001b[43mn_jobs\u001b[49m\u001b[38;5;241;43m=\u001b[39;49m\u001b[38;5;241;43m1\u001b[39;49m\u001b[43m,\u001b[49m\u001b[43m \u001b[49m\u001b[43moob_score\u001b[49m\u001b[38;5;241;43m=\u001b[39;49m\u001b[38;5;28;43;01mFalse\u001b[39;49;00m\u001b[43m,\u001b[49m\u001b[43m \u001b[49m\n\u001b[0;32m      9\u001b[0m \u001b[43m                                                \u001b[49m\u001b[43mrandom_state\u001b[49m\u001b[43m \u001b[49m\u001b[38;5;241;43m=\u001b[39;49m\u001b[38;5;241;43m1\u001b[39;49m\u001b[43m,\u001b[49m\u001b[43m \u001b[49m\u001b[43mverbose\u001b[49m\u001b[43m \u001b[49m\u001b[38;5;241;43m=\u001b[39;49m\u001b[38;5;241;43m0\u001b[39;49m\u001b[43m,\u001b[49m\u001b[43m \u001b[49m\u001b[43mwarm_start\u001b[49m\u001b[38;5;241;43m=\u001b[39;49m\u001b[38;5;28;43;01mFalse\u001b[39;49;00m\u001b[43m)\u001b[49m,\n\u001b[0;32m     10\u001b[0m              n_jobs\u001b[38;5;241m=\u001b[39m\u001b[38;5;241m1\u001b[39m,\n\u001b[0;32m     11\u001b[0m              param_grid \u001b[38;5;241m=\u001b[39m {\u001b[38;5;124m'\u001b[39m\u001b[38;5;124mmax_depth\u001b[39m\u001b[38;5;124m'\u001b[39m: \u001b[38;5;28mlist\u001b[39m(\u001b[38;5;28mrange\u001b[39m(\u001b[38;5;241m1\u001b[39m, \u001b[38;5;241m20\u001b[39m, \u001b[38;5;241m2\u001b[39m)),\n\u001b[0;32m     12\u001b[0m              \u001b[38;5;124m'\u001b[39m\u001b[38;5;124mn_estimators\u001b[39m\u001b[38;5;124m'\u001b[39m: \u001b[38;5;28mlist\u001b[39m(\u001b[38;5;28mrange\u001b[39m(\u001b[38;5;241m1\u001b[39m,\u001b[38;5;241m200\u001b[39m, \u001b[38;5;241m20\u001b[39m))\n\u001b[0;32m     13\u001b[0m              }, pre_dispatch \u001b[38;5;241m=\u001b[39m \u001b[38;5;124m'\u001b[39m\u001b[38;5;124m2*n_jobs\u001b[39m\u001b[38;5;124m'\u001b[39m, refit \u001b[38;5;241m=\u001b[39m \u001b[38;5;28;01mTrue\u001b[39;00m,\n\u001b[0;32m     14\u001b[0m              scoring \u001b[38;5;241m=\u001b[39m \u001b[38;5;28;01mNone\u001b[39;00m, verbose\u001b[38;5;241m=\u001b[39m\u001b[38;5;241m0\u001b[39m\n\u001b[0;32m     15\u001b[0m              )\n",
      "\u001b[1;31mTypeError\u001b[0m: __init__() got an unexpected keyword argument 'min_impurity_split'"
     ]
    }
   ],
   "source": [
    "GridSearchCV(cv=None, error_score='raise',\n",
    "             estimator = RandomForestClassifier(bootstrap = True, class_weight = None, \n",
    "                                                criterion='gini', max_depth= None, \n",
    "                                                max_features='auto', max_leaf_nodes= None,\n",
    "                                                min_impurity_decrease = 0.0, \n",
    "                                                min_impurity_split=None, min_samples_leaf = 1,\n",
    "                                                min_samples_split = 2, min_weight_fraction_leaf = 0.0,\n",
    "                                                n_estimators= 10, n_jobs=1, oob_score=False, \n",
    "                                                random_state =1, verbose =0, warm_start=False),\n",
    "             n_jobs=1,\n",
    "             param_grid = {'max_depth': list(range(1, 20, 2)),\n",
    "             'n_estimators': list(range(1,200, 20))\n",
    "             }, pre_dispatch = '2*n_jobs', refit = True,\n",
    "             scoring = None, verbose=0\n",
    "             )\n"
   ]
  },
  {
   "cell_type": "code",
   "execution_count": null,
   "id": "aa771b13",
   "metadata": {},
   "outputs": [],
   "source": [
    "#Estimating the optimized value\n",
    "grid_search.best_estimator_\n",
    "\n",
    "RandomForestClassifier(bootstrap = True, class_weight = None, \n",
    "                                                criterion='gini', max_depth= None, \n",
    "                                                max_features='auto', max_leaf_nodes= None,\n",
    "                                                min_impurity_decrease = 0.0, \n",
    "                                                min_impurity_split=None, min_samples_leaf = 1,\n",
    "                                                min_samples_split = 2, min_weight_fraction_leaf = 0.0,\n",
    "                                                n_estimators= 10, n_jobs=1, oob_score=False, \n",
    "                                                random_state =1, verbose =0, warm_start=False)"
   ]
  },
  {
   "cell_type": "code",
   "execution_count": null,
   "id": "04a6b8c5",
   "metadata": {},
   "outputs": [],
   "source": [
    "i=1\n",
    "KF = StratifiedKFold(n_splits=5, random_state=1, shuffle=True)\n",
    "for train_index, test_index in KF.split(X,y):\n",
    "    print('\\n{} of Kfolds {} '.format(i, KF.n_splits))\n",
    "    xtrain = X.iloc[train_index]\n",
    "    ytrain = y.iloc[train_index]\n",
    "    xvalidation = X.iloc[test_index]\n",
    "    yvalidation = y.iloc[test_index]\n",
    "    model = RandomForestClassifier(random_state=1, max_depth=3, n_estimators=41)\n",
    "    model.fit(xtrain,ytrain)\n",
    "    pred_test = model.predict(xvalidation)\n",
    "    score = accuracy_score(yvalidation, pred_test)\n",
    "    print('Accuracy Score of Random Forest is ',score)\n",
    "    i+=1\n",
    "    pred_test = model.predict(test)\n",
    "\n"
   ]
  },
  {
   "cell_type": "code",
   "execution_count": null,
   "id": "f5b1060b",
   "metadata": {},
   "outputs": [],
   "source": [
    "submission['Loan_Status'] = pred_test\n",
    "submission['Loan_ID'] = test_og['Loan_ID']\n"
   ]
  },
  {
   "cell_type": "code",
   "execution_count": null,
   "id": "811d0065",
   "metadata": {},
   "outputs": [],
   "source": [
    "submission['Loan_Status'].replace(0, 'N', inplace=True)\n",
    "submission['Loan_Status'].replace(1, 'Y', inplace=True)"
   ]
  },
  {
   "cell_type": "code",
   "execution_count": null,
   "id": "cd6b4a0e",
   "metadata": {},
   "outputs": [],
   "source": [
    "\n",
    "pd.DataFrame(submission, columns=['Loan_ID', 'Loan_Status']).to_csv('Random Forest.csv', index=False)"
   ]
  },
  {
   "cell_type": "code",
   "execution_count": null,
   "id": "d6b932fc",
   "metadata": {},
   "outputs": [],
   "source": [
    "\n",
    "importances = pd.Series(model.feature_importances_, index= X.columns)\n",
    "importances.plot(kind='barh', figsize=(16,8))\n"
   ]
  },
  {
   "cell_type": "code",
   "execution_count": null,
   "id": "6238cdeb",
   "metadata": {},
   "outputs": [],
   "source": [
    "# XGBOOST"
   ]
  },
  {
   "cell_type": "code",
   "execution_count": null,
   "id": "a1cbadf8",
   "metadata": {},
   "outputs": [],
   "source": [
    "i=1\n",
    "KF = StratifiedKFold(n_splits=5, random_state=1, shuffle=True)\n",
    "for train_index, test_index in KF.split(X,y):\n",
    "    print('\\n{} of Kfolds {} '.format(i, KF.n_splits))\n",
    "    xtrain = X.iloc[train_index]\n",
    "    ytrain = y.iloc[train_index]\n",
    "    xvalidation = X.iloc[test_index]\n",
    "    yvalidation = y.iloc[test_index]\n",
    "    model = XGBClassifier(max_depth=4, n_estimators=50)\n",
    "    model.fit(xtrain,ytrain)\n",
    "    pred_test = model.predict(xvalidation)\n",
    "    score = accuracy_score(yvalidation, pred_test)\n",
    "    print('Accuracy Score of Random Forest is ',score)\n",
    "    i+=1\n",
    "    pred_test = model.predict(test)\n",
    "    pred3 = model.predict_proba(test)[:,1]"
   ]
  },
  {
   "cell_type": "code",
   "execution_count": null,
   "id": "f2e81527",
   "metadata": {},
   "outputs": [],
   "source": []
  }
 ],
 "metadata": {
  "kernelspec": {
   "display_name": "Python 3 (ipykernel)",
   "language": "python",
   "name": "python3"
  },
  "language_info": {
   "codemirror_mode": {
    "name": "ipython",
    "version": 3
   },
   "file_extension": ".py",
   "mimetype": "text/x-python",
   "name": "python",
   "nbconvert_exporter": "python",
   "pygments_lexer": "ipython3",
   "version": "3.9.12"
  }
 },
 "nbformat": 4,
 "nbformat_minor": 5
}
